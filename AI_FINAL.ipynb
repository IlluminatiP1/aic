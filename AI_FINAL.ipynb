{
  "nbformat": 4,
  "nbformat_minor": 0,
  "metadata": {
    "colab": {
      "provenance": []
    },
    "kernelspec": {
      "name": "python3",
      "display_name": "Python 3"
    },
    "language_info": {
      "name": "python"
    }
  },
  "cells": [
    {
      "cell_type": "code",
      "execution_count": 23,
      "metadata": {
        "id": "jARJ-MpJITN5"
      },
      "outputs": [],
      "source": [
        "# jo cheeze import ya download krni pad skti hai\n",
        "# pip install nltk\n",
        "# pip install scikit-learn\n",
        "# pip install tensorflow"
      ]
    },
    {
      "cell_type": "code",
      "source": [
        "#Toy Problem Experiment 1\n",
        "#Camel Banana\n",
        "total=int(input('Enter no. of bananas at starting '))\n",
        "distance=int(input('Enter distance you want to cover '))\n",
        "load_capacity=int(input('Enter max load capacity of your camel '))\n",
        "lose=0\n",
        "start=total\n",
        "for i in range(distance):\n",
        "    while start>0:\n",
        "        start=start-load_capacity\n",
        "        if start==1:\n",
        "            lose=lose-1\n",
        "        lose=lose+2\n",
        "    lose=lose-1\n",
        "    start=total-lose\n",
        "    if start==0:\n",
        "        break\n",
        "print(start)"
      ],
      "metadata": {
        "colab": {
          "base_uri": "https://localhost:8080/"
        },
        "id": "q9fn3XjSllcT",
        "outputId": "49381a6a-ee41-44c6-92c7-c0474506ad2c"
      },
      "execution_count": 22,
      "outputs": [
        {
          "output_type": "stream",
          "name": "stdout",
          "text": [
            "Enter no. of bananas at starting 3000\n",
            "Enter distance you want to cover 1000\n",
            "Enter max load capacity of your camel 1000\n",
            "533\n"
          ]
        }
      ]
    },
    {
      "cell_type": "code",
      "source": [
        "#Agent Program Experiment 2\n",
        "#Vaccum Cleaner\n",
        "import random\n",
        "def display(room):\n",
        "    print(room)\n",
        "room = [\n",
        "    [1, 1, 1, 1],\n",
        "    [1, 1, 1, 1],\n",
        "    [1, 1, 1, 1],\n",
        "    [1, 1, 1, 1],\n",
        "]\n",
        "print(\"All the rooom are dirty\")\n",
        "display(room)\n",
        "x =0\n",
        "y= 0\n",
        "while x < 4:\n",
        "    while y < 4:\n",
        "        room[x][y] = random.choice([0,1])\n",
        "        y+=1\n",
        "    x+=1\n",
        "    y=0\n",
        "print(\"Before cleaning the room I detect all of these random dirts\")\n",
        "display(room)\n",
        "x =0\n",
        "y= 0\n",
        "z=0\n",
        "while x < 4:\n",
        "    while y < 4:\n",
        "        if room[x][y] == 1:\n",
        "            print(\"Vaccum in this location now,\",x, y)\n",
        "            room[x][y] = 0\n",
        "            print(\"cleaned\", x, y)\n",
        "            z+=1\n",
        "        y+=1\n",
        "    x+=1\n",
        "    y=0\n",
        "pro= (100-((z/16)*100))\n",
        "print(\"Room is clean now\")\n",
        "display(room)\n",
        "print('performance=',pro,'%')"
      ],
      "metadata": {
        "colab": {
          "base_uri": "https://localhost:8080/"
        },
        "id": "nFvV5LskIqXm",
        "outputId": "8b567d55-d84e-494a-ff92-51aef05969b8"
      },
      "execution_count": 2,
      "outputs": [
        {
          "output_type": "stream",
          "name": "stdout",
          "text": [
            "All the rooom are dirty\n",
            "[[1, 1, 1, 1], [1, 1, 1, 1], [1, 1, 1, 1], [1, 1, 1, 1]]\n",
            "Before cleaning the room I detect all of these random dirts\n",
            "[[0, 1, 1, 1], [1, 0, 1, 0], [0, 0, 1, 1], [1, 1, 1, 1]]\n",
            "Vaccum in this location now, 0 1\n",
            "cleaned 0 1\n",
            "Vaccum in this location now, 0 2\n",
            "cleaned 0 2\n",
            "Vaccum in this location now, 0 3\n",
            "cleaned 0 3\n",
            "Vaccum in this location now, 1 0\n",
            "cleaned 1 0\n",
            "Vaccum in this location now, 1 2\n",
            "cleaned 1 2\n",
            "Vaccum in this location now, 2 2\n",
            "cleaned 2 2\n",
            "Vaccum in this location now, 2 3\n",
            "cleaned 2 3\n",
            "Vaccum in this location now, 3 0\n",
            "cleaned 3 0\n",
            "Vaccum in this location now, 3 1\n",
            "cleaned 3 1\n",
            "Vaccum in this location now, 3 2\n",
            "cleaned 3 2\n",
            "Vaccum in this location now, 3 3\n",
            "cleaned 3 3\n",
            "Room is clean now\n",
            "[[0, 0, 0, 0], [0, 0, 0, 0], [0, 0, 0, 0], [0, 0, 0, 0]]\n",
            "performance= 31.25 %\n"
          ]
        }
      ]
    },
    {
      "cell_type": "code",
      "source": [
        "#Experiment 3\n",
        "# Cryparithmic \n",
        "import itertools\n",
        "\n",
        "def get_value(word, substitution):\n",
        "    s = 0\n",
        "    factor = 1\n",
        "    for letter in reversed(word):\n",
        "        s += factor * substitution[letter]\n",
        "        factor *= 10\n",
        "    return s\n",
        "\n",
        "def solve2(equation):\n",
        "    left, right = equation.lower().replace(' ', '').split('=')\n",
        "    left = left.split('+')\n",
        "    letters = set(right)\n",
        "    for word in left:\n",
        "        for letter in word:\n",
        "            letters.add(letter)\n",
        "    letters = list(letters)\n",
        "    digits = range(10)\n",
        "    for perm in itertools.permutations(digits, len(letters)):\n",
        "        sol = dict(zip(letters, perm))\n",
        "\n",
        "        if sum(get_value(word, sol) for word in left) == get_value(right, sol) and get_value(right[0][0],sol)!=0 and get_value(left[0][0],sol)!=0 and get_value(left[1][0],sol)!=0:\n",
        "            print(' + '.join(str(get_value(word, sol)) for word in left) + \" = {} (mapping: {})\".format(get_value(right, sol),sol))\n",
        "s = input (\"Enter the puzzle \")\n",
        "solve2(s)"
      ],
      "metadata": {
        "colab": {
          "base_uri": "https://localhost:8080/"
        },
        "id": "9kqtTby2IwYX",
        "outputId": "486712fd-ac27-4fcb-b4d0-6cec19513f51"
      },
      "execution_count": 5,
      "outputs": [
        {
          "output_type": "stream",
          "name": "stdout",
          "text": [
            "Enter the puzzle SEND+MORE=MONEY\n",
            "9567 + 1085 = 10652 (mapping: {'s': 9, 'd': 7, 'r': 8, 'e': 5, 'y': 2, 'm': 1, 'o': 0, 'n': 6})\n"
          ]
        }
      ]
    },
    {
      "cell_type": "code",
      "source": [
        "#Experiment 4\n",
        "# Range sum in Binary Tree\n",
        "class TreeNode:\n",
        "    def __init__(self, val=0, left=None, right=None):\n",
        "        self.val = val\n",
        "        self.left = left\n",
        "        self.right = right\n",
        "\n",
        "# RECURSIVE APPROACH\n",
        "\n",
        "class Solution(object):\n",
        "    def rangeSumBST(self, root, L, R):\n",
        "        def dfs(node):\n",
        "            if node:\n",
        "                if L <= node.val <= R:\n",
        "                    self.ans += node.val\n",
        "                if L < node.val:\n",
        "                    dfs(node.left)\n",
        "                if node.val < R:\n",
        "                    dfs(node.right)\n",
        "\n",
        "        self.ans = 0\n",
        "        dfs(root)\n",
        "        return self.ans\n",
        "\n",
        "# ITERATIVE APPROACH\n",
        "\n",
        "def rangeSumBST(root, L, R):\n",
        "    ans = 0\n",
        "    stack = [root]\n",
        "    while stack:\n",
        "        node = stack.pop()\n",
        "        if node:\n",
        "            if L <= node.val <= R:\n",
        "                ans += node.val\n",
        "            if L < node.val:\n",
        "                stack.append(node.left)\n",
        "            if node.val < R:\n",
        "                stack.append(node.right)\n",
        "    return ans\n",
        "\n",
        "bst = TreeNode(10)\n",
        "bst.left = TreeNode(5)\n",
        "bst.right = TreeNode(15)\n",
        "bst.left.left = TreeNode(3)\n",
        "bst.left.right = TreeNode(7)\n",
        "bst.right.right = TreeNode(18)\n",
        "\n",
        "min = int(input(\"Enter the Lower value of the range : \"))\n",
        "max = int(input(\"Enter the Higher value of the range : \"))\n",
        "\n",
        "sol_dfs = Solution().rangeSumBST(bst, min, max)\n",
        "sol_bfs = rangeSumBST(bst,min,max)\n",
        "print(f\"The sum of the nodes in the range {min} and {max} using dfs is {sol_dfs}\")\n",
        "print(f\"The sum of the nodes in the range {min} and {max} using bfs is {sol_bfs}\")"
      ],
      "metadata": {
        "colab": {
          "base_uri": "https://localhost:8080/"
        },
        "id": "IKRP-AzmI1jG",
        "outputId": "a3680db1-6f69-4325-a50f-b2b48d2e9516"
      },
      "execution_count": 7,
      "outputs": [
        {
          "output_type": "stream",
          "name": "stdout",
          "text": [
            "Enter the Lower value of the range : 7\n",
            "Enter the Higher value of the range : 15\n",
            "The sum of the nodes in the range 7 and 15 using dfs is 32\n",
            "The sum of the nodes in the range 7 and 15 using bfs is 32\n"
          ]
        }
      ]
    },
    {
      "cell_type": "code",
      "source": [
        "# Experiment 5 A * and best first search\n",
        "# This code finds the shortest path between two points using A* and Best first search\n",
        "\n",
        "from collections import deque\n",
        "\n",
        "# Create a graph\n",
        "graph = {\n",
        "    \"A\": [\"B\", \"C\"],\n",
        "    \"B\": [\"D\", \"E\"],\n",
        "    \"C\": [\"F\", \"G\"],\n",
        "    \"D\": [],\n",
        "    \"E\": [\"H\"],\n",
        "    \"F\": [],\n",
        "    \"G\": [],\n",
        "    \"H\": []\n",
        "}\n",
        "\n",
        "# Function to find the shortest path between two points using A*\n",
        "def a_star(graph, start, end):\n",
        "    visited = set()\n",
        "    queue = deque([(start, 0)])\n",
        "\n",
        "    while queue:\n",
        "        node, cost = queue.popleft()\n",
        "\n",
        "        if node not in visited:\n",
        "            visited.add(node)\n",
        "\n",
        "            if node == end:\n",
        "                return cost\n",
        "\n",
        "            for neighbor in graph[node]:\n",
        "                queue.append((neighbor, cost + 1))\n",
        "\n",
        "# Function to find the shortest path between two points using Best first search\n",
        "def best_first_search(graph, start, end):\n",
        "    visited = set()\n",
        "    priority_queue = []\n",
        "\n",
        "    # Add the start node to the priority queue\n",
        "    priority_queue.append((0, start))\n",
        "\n",
        "    while priority_queue:\n",
        "        cost, node = priority_queue.pop()\n",
        "\n",
        "        if node not in visited:\n",
        "            visited.add(node)\n",
        "\n",
        "            if node == end:\n",
        "                return cost\n",
        "\n",
        "            for neighbor in graph[node]:\n",
        "                priority_queue.append((cost + 1, neighbor))\n",
        "\n",
        "# Call A* and Best first search\n",
        "print(\"A*:\", a_star(graph, \"A\", \"H\"))\n",
        "print(\"Best first search:\", best_first_search(graph, \"A\", \"H\"))"
      ],
      "metadata": {
        "colab": {
          "base_uri": "https://localhost:8080/"
        },
        "id": "OKt5DqwOJPNs",
        "outputId": "af6eafd0-1de4-4ac5-cb47-665cb190cc87"
      },
      "execution_count": 8,
      "outputs": [
        {
          "output_type": "stream",
          "name": "stdout",
          "text": [
            "A*: 3\n",
            "Best first search: 3\n"
          ]
        }
      ]
    },
    {
      "cell_type": "code",
      "source": [
        "#Experiment 6 Monty Hall\n",
        "import random\n",
        "\n",
        "def simulate_monty_hall(iterations):\n",
        "    stay_wins = 0\n",
        "    switch_wins = 0\n",
        "    \n",
        "    for _ in range(iterations):\n",
        "        # Simulate the initial choice of the player\n",
        "        choices = [1, 2, 3]  # Doors numbered 1, 2, and 3\n",
        "        player_choice = random.choice(choices)\n",
        "        \n",
        "        # Set the location of the car randomly\n",
        "        car_location = random.choice(choices)\n",
        "        \n",
        "        # Simulate the host revealing an empty door\n",
        "        empty_doors = [door for door in choices if door != player_choice and door != car_location]\n",
        "        host_reveal = random.choice(empty_doors)\n",
        "        \n",
        "        # Simulate the switching strategy\n",
        "        switch_choice = [door for door in choices if door != player_choice and door != host_reveal][0]\n",
        "        \n",
        "        # Check if the player wins with staying or switching\n",
        "        if player_choice == car_location:\n",
        "            stay_wins += 1\n",
        "        \n",
        "        if switch_choice == car_location:\n",
        "            switch_wins += 1\n",
        "    \n",
        "    stay_probability = stay_wins / iterations\n",
        "    switch_probability = switch_wins / iterations\n",
        "    \n",
        "    return stay_probability, switch_probability\n",
        "\n",
        "# Set the number of iterations to simulate\n",
        "iterations = 100000\n",
        "\n",
        "stay_probability, switch_probability = simulate_monty_hall(iterations)\n",
        "\n",
        "print(\"Probability of winning by staying:\", stay_probability)\n",
        "print(\"Probability of winning by switching:\", switch_probability)"
      ],
      "metadata": {
        "colab": {
          "base_uri": "https://localhost:8080/"
        },
        "id": "1s1xBJrLJXIc",
        "outputId": "f3493c56-9ce9-4e35-ac66-904520d8ae1a"
      },
      "execution_count": 9,
      "outputs": [
        {
          "output_type": "stream",
          "name": "stdout",
          "text": [
            "Probability of winning by staying: 0.33261\n",
            "Probability of winning by switching: 0.66739\n"
          ]
        }
      ]
    },
    {
      "cell_type": "code",
      "source": [
        "#exp7 resolution and unification\n",
        "# END GAME"
      ],
      "metadata": {
        "id": "9Mt5L4Ngaq6W"
      },
      "execution_count": null,
      "outputs": []
    },
    {
      "cell_type": "code",
      "source": [
        "# Exp 8 Linear Regression\n",
        "# Importing necessary libraries\n",
        "import pandas as pd\n",
        "import numpy as np\n",
        "import matplotlib.pyplot as plt\n",
        "from sklearn.linear_model import LinearRegression\n",
        "\n",
        "# Loading the dataset\n",
        "df = pd.read_csv('ftest.csv')\n",
        "\n",
        "# Extracting independent and dependent variables\n",
        "X = df.iloc[:, 0].values.reshape(-1, 1)  # EU sales of the video game\n",
        "y = df.iloc[:, 1].values.reshape(-1, 1)  # Global sales of the video game\n",
        "\n",
        "# Creating an instance of the linear regression model\n",
        "regressor = LinearRegression()\n",
        "\n",
        "# Fitting the model with the dataset\n",
        "regressor.fit(X, y)\n",
        "\n",
        "# Predicting the global sales of a new video game based on its EU sales\n",
        "new_eu_sales = np.array([15]).reshape(-1, 1)  # Replace 10 with the actual value of EU sales of the new video game\n",
        "predicted_sales = regressor.predict(new_eu_sales)\n",
        "print(\"Predicted global sales of the new video game: \", predicted_sales)\n",
        "\n",
        "# Visualizing the results\n",
        "plt.scatter(X, y, color='blue')\n",
        "plt.plot(X, regressor.predict(X), color='red')\n",
        "plt.title('Video Game Sales')\n",
        "plt.xlabel('EU Sales (in millions)')\n",
        "plt.ylabel('Global Sales (in millions)')\n",
        "plt.show()\n"
      ],
      "metadata": {
        "colab": {
          "base_uri": "https://localhost:8080/",
          "height": 490
        },
        "id": "13-wZrnAJF4P",
        "outputId": "d53aec24-26e4-472e-c1d0-2225ada5a51d"
      },
      "execution_count": 13,
      "outputs": [
        {
          "output_type": "stream",
          "name": "stdout",
          "text": [
            "Predicted global sales of the new video game:  [[24.08108108]]\n"
          ]
        },
        {
          "output_type": "display_data",
          "data": {
            "text/plain": [
              "<Figure size 640x480 with 1 Axes>"
            ],
            "image/png": "[encoded data removed]"
          },
          "metadata": {}
        }
      ]
    },
    {
      "cell_type": "code",
      "source": [
        "#exp 9 NLP\n",
        "from nltk.tokenize import wordpunct_tokenize\n",
        "s = '''Good muffins cost $3.88\\nin New York.  Please buy me\n",
        "... two of them.\\n\\nThanks.'''\n",
        "wordpunct_tokenize(s)"
      ],
      "metadata": {
        "colab": {
          "base_uri": "https://localhost:8080/"
        },
        "id": "WNmZ25BEaXyD",
        "outputId": "5ecb5a7b-31c4-4d15-eb49-628f4cf61db6"
      },
      "execution_count": 19,
      "outputs": [
        {
          "output_type": "execute_result",
          "data": {
            "text/plain": [
              "['Good',\n",
              " 'muffins',\n",
              " 'cost',\n",
              " '$',\n",
              " '3',\n",
              " '.',\n",
              " '88',\n",
              " 'in',\n",
              " 'New',\n",
              " 'York',\n",
              " '.',\n",
              " 'Please',\n",
              " 'buy',\n",
              " 'me',\n",
              " '...',\n",
              " 'two',\n",
              " 'of',\n",
              " 'them',\n",
              " '.',\n",
              " 'Thanks',\n",
              " '.']"
            ]
          },
          "metadata": {},
          "execution_count": 19
        }
      ]
    },
    {
      "cell_type": "code",
      "source": [
        "#exp 9 NLP\n",
        "from textblob import TextBlob\n",
        "\n",
        "# Sample text for sentiment analysis\n",
        "text = \"You are ugly\"\n",
        "\n",
        "# Perform sentiment analysis using TextBlob\n",
        "blob = TextBlob(text)\n",
        "sentiment = blob.sentiment.polarity\n",
        "\n",
        "# Determine sentiment polarity\n",
        "if sentiment > 0:\n",
        "    print(\"Positive sentiment\")\n",
        "elif sentiment < 0:\n",
        "    print(\"Negative sentiment\")\n",
        "else:\n",
        "    print(\"Neutral sentiment\")"
      ],
      "metadata": {
        "colab": {
          "base_uri": "https://localhost:8080/"
        },
        "id": "zP3hKh55aips",
        "outputId": "8bcded22-df93-4961-bd05-6966e4b4a5aa"
      },
      "execution_count": 20,
      "outputs": [
        {
          "output_type": "stream",
          "name": "stdout",
          "text": [
            "Negative sentiment\n"
          ]
        }
      ]
    },
    {
      "cell_type": "code",
      "source": [
        "# Experiment 10\n",
        "# Deep learning\n",
        "import tensorflow as tf\n",
        "from tensorflow import keras\n",
        "\n",
        "# Load the CIFAR-10 dataset\n",
        "(x_train, y_train), (x_test, y_test) = keras.datasets.cifar10.load_data()\n",
        "\n",
        "# Normalize pixel values between 0 and 1\n",
        "x_train = x_train.astype('float32') / 255\n",
        "x_test = x_test.astype('float32') / 255\n",
        "\n",
        "# Define the CNN architecture\n",
        "model = keras.Sequential([\n",
        "    keras.layers.Conv2D(32, (3, 3), padding='same',\n",
        "                        activation='relu', input_shape=x_train.shape[1:]),\n",
        "    keras.layers.MaxPooling2D((2, 2)),\n",
        "    keras.layers.Conv2D(64, (3, 3), padding='same', activation='relu'),\n",
        "    keras.layers.MaxPooling2D((2, 2)),\n",
        "    keras.layers.Flatten(),\n",
        "    keras.layers.Dense(64, activation='relu'),\n",
        "    keras.layers.Dense(10)\n",
        "])\n",
        "\n",
        "# Compile the model\n",
        "model.compile(optimizer='adam',\n",
        "              loss=tf.keras.losses.SparseCategoricalCrossentropy(\n",
        "                  from_logits=True),\n",
        "              metrics=['accuracy'])\n",
        "\n",
        "# Train the model on the training data\n",
        "model.fit(x_train, y_train, epochs=4, validation_data=(x_test, y_test))\n",
        "\n",
        "# Evaluate the model on the test data\n",
        "test_loss, test_acc = model.evaluate(x_test, y_test)\n",
        "print(f'Test accuracy: {test_acc}')"
      ],
      "metadata": {
        "colab": {
          "base_uri": "https://localhost:8080/"
        },
        "id": "CbEe5gq1N5m3",
        "outputId": "16986f04-5939-4b35-80ab-8d799ff1561b"
      },
      "execution_count": 16,
      "outputs": [
        {
          "output_type": "stream",
          "name": "stdout",
          "text": [
            "Epoch 1/4\n",
            "1563/1563 [==============================] - 61s 39ms/step - loss: 1.4017 - accuracy: 0.4981 - val_loss: 1.1700 - val_accuracy: 0.5872\n",
            "Epoch 2/4\n",
            "1563/1563 [==============================] - 64s 41ms/step - loss: 1.0429 - accuracy: 0.6345 - val_loss: 1.0019 - val_accuracy: 0.6475\n",
            "Epoch 3/4\n",
            "1563/1563 [==============================] - 62s 39ms/step - loss: 0.9097 - accuracy: 0.6835 - val_loss: 0.9317 - val_accuracy: 0.6750\n",
            "Epoch 4/4\n",
            "1563/1563 [==============================] - 60s 38ms/step - loss: 0.8246 - accuracy: 0.7125 - val_loss: 0.8944 - val_accuracy: 0.6957\n",
            "313/313 [==============================] - 3s 11ms/step - loss: 0.8944 - accuracy: 0.6957\n",
            "Test accuracy: 0.6956999897956848\n"
          ]
        }
      ]
    }
  ]
}